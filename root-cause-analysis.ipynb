{
 "cells": [
  {
   "cell_type": "code",
   "execution_count": 1,
   "id": "b871c9dd-f892-46e7-b8d8-19802651ee7c",
   "metadata": {},
   "outputs": [
    {
     "data": {
      "text/html": [
       "<div>\n",
       "<style scoped>\n",
       "    .dataframe tbody tr th:only-of-type {\n",
       "        vertical-align: middle;\n",
       "    }\n",
       "\n",
       "    .dataframe tbody tr th {\n",
       "        vertical-align: top;\n",
       "    }\n",
       "\n",
       "    .dataframe thead th {\n",
       "        text-align: right;\n",
       "    }\n",
       "</style>\n",
       "<table border=\"1\" class=\"dataframe\">\n",
       "  <thead>\n",
       "    <tr style=\"text-align: right;\">\n",
       "      <th></th>\n",
       "      <th>ID</th>\n",
       "      <th>CPU_LOAD</th>\n",
       "      <th>MEMORY_LEAK_LOAD</th>\n",
       "      <th>DELAY</th>\n",
       "      <th>ERROR_1000</th>\n",
       "      <th>ERROR_1001</th>\n",
       "      <th>ERROR_1002</th>\n",
       "      <th>ERROR_1003</th>\n",
       "      <th>ROOT_CAUSE</th>\n",
       "    </tr>\n",
       "  </thead>\n",
       "  <tbody>\n",
       "    <tr>\n",
       "      <th>0</th>\n",
       "      <td>1</td>\n",
       "      <td>0</td>\n",
       "      <td>0</td>\n",
       "      <td>0</td>\n",
       "      <td>0</td>\n",
       "      <td>1</td>\n",
       "      <td>0</td>\n",
       "      <td>1</td>\n",
       "      <td>MEMORY_LEAK</td>\n",
       "    </tr>\n",
       "    <tr>\n",
       "      <th>1</th>\n",
       "      <td>2</td>\n",
       "      <td>0</td>\n",
       "      <td>0</td>\n",
       "      <td>0</td>\n",
       "      <td>0</td>\n",
       "      <td>0</td>\n",
       "      <td>0</td>\n",
       "      <td>1</td>\n",
       "      <td>MEMORY_LEAK</td>\n",
       "    </tr>\n",
       "    <tr>\n",
       "      <th>2</th>\n",
       "      <td>3</td>\n",
       "      <td>0</td>\n",
       "      <td>1</td>\n",
       "      <td>1</td>\n",
       "      <td>0</td>\n",
       "      <td>0</td>\n",
       "      <td>1</td>\n",
       "      <td>1</td>\n",
       "      <td>MEMORY_LEAK</td>\n",
       "    </tr>\n",
       "    <tr>\n",
       "      <th>3</th>\n",
       "      <td>4</td>\n",
       "      <td>0</td>\n",
       "      <td>1</td>\n",
       "      <td>0</td>\n",
       "      <td>1</td>\n",
       "      <td>1</td>\n",
       "      <td>0</td>\n",
       "      <td>1</td>\n",
       "      <td>MEMORY_LEAK</td>\n",
       "    </tr>\n",
       "    <tr>\n",
       "      <th>4</th>\n",
       "      <td>5</td>\n",
       "      <td>1</td>\n",
       "      <td>1</td>\n",
       "      <td>0</td>\n",
       "      <td>1</td>\n",
       "      <td>0</td>\n",
       "      <td>1</td>\n",
       "      <td>0</td>\n",
       "      <td>NETWORK_DELAY</td>\n",
       "    </tr>\n",
       "  </tbody>\n",
       "</table>\n",
       "</div>"
      ],
      "text/plain": [
       "   ID  CPU_LOAD  MEMORY_LEAK_LOAD  DELAY  ERROR_1000  ERROR_1001  ERROR_1002  \\\n",
       "0   1         0                 0      0           0           1           0   \n",
       "1   2         0                 0      0           0           0           0   \n",
       "2   3         0                 1      1           0           0           1   \n",
       "3   4         0                 1      0           1           1           0   \n",
       "4   5         1                 1      0           1           0           1   \n",
       "\n",
       "   ERROR_1003     ROOT_CAUSE  \n",
       "0           1    MEMORY_LEAK  \n",
       "1           1    MEMORY_LEAK  \n",
       "2           1    MEMORY_LEAK  \n",
       "3           1    MEMORY_LEAK  \n",
       "4           0  NETWORK_DELAY  "
      ]
     },
     "execution_count": 1,
     "metadata": {},
     "output_type": "execute_result"
    }
   ],
   "source": [
    "import pandas as pd\n",
    "import os\n",
    "import tensorflow as tf\n",
    "\n",
    "# load data into data frame\n",
    "symptom_data = pd.read_csv(\"root_cause_analysis.csv\")\n",
    "symptom_data.head()"
   ]
  },
  {
   "cell_type": "code",
   "execution_count": 3,
   "id": "81cdf462-2768-4209-8fcd-b86c0a2aebdf",
   "metadata": {},
   "outputs": [
    {
     "name": "stdout",
     "output_type": "stream",
     "text": [
      "<class 'pandas.core.frame.DataFrame'>\n",
      "RangeIndex: 1000 entries, 0 to 999\n",
      "Data columns (total 9 columns):\n",
      " #   Column            Non-Null Count  Dtype \n",
      "---  ------            --------------  ----- \n",
      " 0   ID                1000 non-null   int64 \n",
      " 1   CPU_LOAD          1000 non-null   int64 \n",
      " 2   MEMORY_LEAK_LOAD  1000 non-null   int64 \n",
      " 3   DELAY             1000 non-null   int64 \n",
      " 4   ERROR_1000        1000 non-null   int64 \n",
      " 5   ERROR_1001        1000 non-null   int64 \n",
      " 6   ERROR_1002        1000 non-null   int64 \n",
      " 7   ERROR_1003        1000 non-null   int64 \n",
      " 8   ROOT_CAUSE        1000 non-null   object\n",
      "dtypes: int64(8), object(1)\n",
      "memory usage: 70.4+ KB\n"
     ]
    }
   ],
   "source": [
    "symptom_data.info()"
   ]
  },
  {
   "cell_type": "code",
   "execution_count": 5,
   "id": "2c24b48d-9be2-425d-8ffe-1a6c9486b353",
   "metadata": {},
   "outputs": [
    {
     "data": {
      "text/plain": [
       "(1000, 9)"
      ]
     },
     "execution_count": 5,
     "metadata": {},
     "output_type": "execute_result"
    }
   ],
   "source": [
    "symptom_data.shape"
   ]
  },
  {
   "cell_type": "code",
   "execution_count": 6,
   "id": "a047f151-f3c4-4cf9-b9bd-3936223d110c",
   "metadata": {},
   "outputs": [],
   "source": [
    "from sklearn import preprocessing\n",
    "from sklearn.model_selection import train_test_split\n",
    "\n",
    "# convert target variable into numeric using label encoder\n",
    "label_encoder = preprocessing.LabelEncoder()\n",
    "symptom_data[\"ROOT_CAUSE\"] = label_encoder.fit_transform(symptom_data[\"ROOT_CAUSE\"])"
   ]
  },
  {
   "cell_type": "code",
   "execution_count": 8,
   "id": "2a6deaf5-56de-4d36-92f5-6a54fb195ff2",
   "metadata": {},
   "outputs": [
    {
     "data": {
      "text/html": [
       "<div>\n",
       "<style scoped>\n",
       "    .dataframe tbody tr th:only-of-type {\n",
       "        vertical-align: middle;\n",
       "    }\n",
       "\n",
       "    .dataframe tbody tr th {\n",
       "        vertical-align: top;\n",
       "    }\n",
       "\n",
       "    .dataframe thead th {\n",
       "        text-align: right;\n",
       "    }\n",
       "</style>\n",
       "<table border=\"1\" class=\"dataframe\">\n",
       "  <thead>\n",
       "    <tr style=\"text-align: right;\">\n",
       "      <th></th>\n",
       "      <th>ID</th>\n",
       "      <th>CPU_LOAD</th>\n",
       "      <th>MEMORY_LEAK_LOAD</th>\n",
       "      <th>DELAY</th>\n",
       "      <th>ERROR_1000</th>\n",
       "      <th>ERROR_1001</th>\n",
       "      <th>ERROR_1002</th>\n",
       "      <th>ERROR_1003</th>\n",
       "      <th>ROOT_CAUSE</th>\n",
       "    </tr>\n",
       "  </thead>\n",
       "  <tbody>\n",
       "    <tr>\n",
       "      <th>0</th>\n",
       "      <td>1</td>\n",
       "      <td>0</td>\n",
       "      <td>0</td>\n",
       "      <td>0</td>\n",
       "      <td>0</td>\n",
       "      <td>1</td>\n",
       "      <td>0</td>\n",
       "      <td>1</td>\n",
       "      <td>1</td>\n",
       "    </tr>\n",
       "    <tr>\n",
       "      <th>1</th>\n",
       "      <td>2</td>\n",
       "      <td>0</td>\n",
       "      <td>0</td>\n",
       "      <td>0</td>\n",
       "      <td>0</td>\n",
       "      <td>0</td>\n",
       "      <td>0</td>\n",
       "      <td>1</td>\n",
       "      <td>1</td>\n",
       "    </tr>\n",
       "    <tr>\n",
       "      <th>2</th>\n",
       "      <td>3</td>\n",
       "      <td>0</td>\n",
       "      <td>1</td>\n",
       "      <td>1</td>\n",
       "      <td>0</td>\n",
       "      <td>0</td>\n",
       "      <td>1</td>\n",
       "      <td>1</td>\n",
       "      <td>1</td>\n",
       "    </tr>\n",
       "    <tr>\n",
       "      <th>3</th>\n",
       "      <td>4</td>\n",
       "      <td>0</td>\n",
       "      <td>1</td>\n",
       "      <td>0</td>\n",
       "      <td>1</td>\n",
       "      <td>1</td>\n",
       "      <td>0</td>\n",
       "      <td>1</td>\n",
       "      <td>1</td>\n",
       "    </tr>\n",
       "    <tr>\n",
       "      <th>4</th>\n",
       "      <td>5</td>\n",
       "      <td>1</td>\n",
       "      <td>1</td>\n",
       "      <td>0</td>\n",
       "      <td>1</td>\n",
       "      <td>0</td>\n",
       "      <td>1</td>\n",
       "      <td>0</td>\n",
       "      <td>2</td>\n",
       "    </tr>\n",
       "  </tbody>\n",
       "</table>\n",
       "</div>"
      ],
      "text/plain": [
       "   ID  CPU_LOAD  MEMORY_LEAK_LOAD  DELAY  ERROR_1000  ERROR_1001  ERROR_1002  \\\n",
       "0   1         0                 0      0           0           1           0   \n",
       "1   2         0                 0      0           0           0           0   \n",
       "2   3         0                 1      1           0           0           1   \n",
       "3   4         0                 1      0           1           1           0   \n",
       "4   5         1                 1      0           1           0           1   \n",
       "\n",
       "   ERROR_1003  ROOT_CAUSE  \n",
       "0           1           1  \n",
       "1           1           1  \n",
       "2           1           1  \n",
       "3           1           1  \n",
       "4           0           2  "
      ]
     },
     "execution_count": 8,
     "metadata": {},
     "output_type": "execute_result"
    }
   ],
   "source": [
    "symptom_data.head()"
   ]
  },
  {
   "cell_type": "code",
   "execution_count": 10,
   "id": "a9470144-8b49-4764-9c4c-7a2618a04983",
   "metadata": {},
   "outputs": [],
   "source": [
    "# covert the dataframe to numpy vector\n",
    "np_symptom = symptom_data.to_numpy().astype(float)"
   ]
  },
  {
   "cell_type": "code",
   "execution_count": 12,
   "id": "01688b86-a6e1-4465-87ec-8c4bed292d72",
   "metadata": {},
   "outputs": [
    {
     "data": {
      "text/plain": [
       "array([[1., 0., 0., 0., 0., 1., 0., 1., 1.],\n",
       "       [2., 0., 0., 0., 0., 0., 0., 1., 1.]])"
      ]
     },
     "execution_count": 12,
     "metadata": {},
     "output_type": "execute_result"
    }
   ],
   "source": [
    "np_symptom[0:2]"
   ]
  },
  {
   "cell_type": "code",
   "execution_count": 15,
   "id": "b6cf42d1-c168-48d6-bf55-7e0dd6ef0c63",
   "metadata": {},
   "outputs": [],
   "source": [
    "# extract feature and target variable\n",
    "X_data = np_symptom[:, 1:8]\n",
    "Y_data = np_symptom[:,8]"
   ]
  },
  {
   "cell_type": "code",
   "execution_count": 16,
   "id": "8088e4e9-6023-49d7-8d79-a5e55bf9bb5a",
   "metadata": {},
   "outputs": [],
   "source": [
    "# convert target variable to one-hot encoding\n",
    "Y_data = tf.keras.utils.to_categorical(Y_data,3)"
   ]
  },
  {
   "cell_type": "code",
   "execution_count": 17,
   "id": "ac64ede5-ec9d-4661-97ab-2ee64bcfd301",
   "metadata": {},
   "outputs": [],
   "source": [
    "# split dataset into test and training data\n",
    "X_train, X_test, Y_train, Y_test = train_test_split(X_data, Y_data, test_size=0.10)"
   ]
  },
  {
   "cell_type": "code",
   "execution_count": 19,
   "id": "072a3001-13bf-420d-b26f-af1cafe81e4c",
   "metadata": {},
   "outputs": [
    {
     "name": "stdout",
     "output_type": "stream",
     "text": [
      "Output class 3\n",
      "Model: \"sequential\"\n",
      "_________________________________________________________________\n",
      " Layer (type)                Output Shape              Param #   \n",
      "=================================================================\n",
      " Dense-Layer-1 (Dense)       (None, 128)               1024      \n",
      "                                                                 \n",
      " Dense-layer-2 (Dense)       (None, 128)               16512     \n",
      "                                                                 \n",
      " Final (Dense)               (None, 3)                 387       \n",
      "                                                                 \n",
      "=================================================================\n",
      "Total params: 17923 (70.01 KB)\n",
      "Trainable params: 17923 (70.01 KB)\n",
      "Non-trainable params: 0 (0.00 Byte)\n",
      "_________________________________________________________________\n"
     ]
    }
   ],
   "source": [
    "from tensorflow import keras\n",
    "\n",
    "output_class = len(label_encoder.classes_)\n",
    "print(\"Output class\", output_class)\n",
    "\n",
    "# create a keras sequential model\n",
    "model = tf.keras.models.Sequential()\n",
    "\n",
    "#Add a dense layer\n",
    "model.add(keras.layers.Dense(128,\n",
    "                            input_shape=(7,),\n",
    "                            name=\"Dense-Layer-1\",\n",
    "                            activation='relu'))\n",
    "#Add a second layer\n",
    "model.add(keras.layers.Dense(128, name=\"Dense-layer-2\",\n",
    "                            activation=\"relu\"))\n",
    "#Add a softmax layer for categorical prediction\n",
    "model.add(keras.layers.Dense(output_class, name=\"Final\",\n",
    "                            activation=\"softmax\"))\n",
    "#Compile the model\n",
    "model.compile(loss=\"categorical_crossentropy\", metrics=[\"accuracy\"])\n",
    "\n",
    "model.summary()"
   ]
  },
  {
   "cell_type": "code",
   "execution_count": 20,
   "id": "05a564a4-4902-4444-a6cd-9ffb2f72dd31",
   "metadata": {},
   "outputs": [
    {
     "name": "stdout",
     "output_type": "stream",
     "text": [
      "Epoch 1/20\n",
      "12/12 [==============================] - 2s 32ms/step - loss: 0.8890 - accuracy: 0.7403 - val_loss: 0.7345 - val_accuracy: 0.7667\n",
      "Epoch 2/20\n",
      "12/12 [==============================] - 0s 7ms/step - loss: 0.6447 - accuracy: 0.8028 - val_loss: 0.5458 - val_accuracy: 0.8056\n",
      "Epoch 3/20\n",
      "12/12 [==============================] - 0s 6ms/step - loss: 0.5351 - accuracy: 0.8097 - val_loss: 0.5030 - val_accuracy: 0.7722\n",
      "Epoch 4/20\n",
      "12/12 [==============================] - 0s 14ms/step - loss: 0.4907 - accuracy: 0.8097 - val_loss: 0.4660 - val_accuracy: 0.8111\n",
      "Epoch 5/20\n",
      "12/12 [==============================] - 0s 11ms/step - loss: 0.4656 - accuracy: 0.8292 - val_loss: 0.4729 - val_accuracy: 0.8056\n",
      "Epoch 6/20\n",
      "12/12 [==============================] - 0s 9ms/step - loss: 0.4509 - accuracy: 0.8403 - val_loss: 0.4699 - val_accuracy: 0.8000\n",
      "Epoch 7/20\n",
      "12/12 [==============================] - 0s 9ms/step - loss: 0.4475 - accuracy: 0.8306 - val_loss: 0.4286 - val_accuracy: 0.8333\n",
      "Epoch 8/20\n",
      "12/12 [==============================] - 0s 7ms/step - loss: 0.4438 - accuracy: 0.8389 - val_loss: 0.4334 - val_accuracy: 0.8500\n",
      "Epoch 9/20\n",
      "12/12 [==============================] - 0s 7ms/step - loss: 0.4347 - accuracy: 0.8417 - val_loss: 0.4362 - val_accuracy: 0.8222\n",
      "Epoch 10/20\n",
      "12/12 [==============================] - 0s 7ms/step - loss: 0.4316 - accuracy: 0.8319 - val_loss: 0.4280 - val_accuracy: 0.8278\n",
      "Epoch 11/20\n",
      "12/12 [==============================] - 0s 6ms/step - loss: 0.4276 - accuracy: 0.8486 - val_loss: 0.4425 - val_accuracy: 0.8278\n",
      "Epoch 12/20\n",
      "12/12 [==============================] - 0s 6ms/step - loss: 0.4196 - accuracy: 0.8500 - val_loss: 0.4543 - val_accuracy: 0.8167\n",
      "Epoch 13/20\n",
      "12/12 [==============================] - 0s 7ms/step - loss: 0.4154 - accuracy: 0.8375 - val_loss: 0.4199 - val_accuracy: 0.8278\n",
      "Epoch 14/20\n",
      "12/12 [==============================] - 0s 6ms/step - loss: 0.4181 - accuracy: 0.8347 - val_loss: 0.4317 - val_accuracy: 0.8278\n",
      "Epoch 15/20\n",
      "12/12 [==============================] - 0s 7ms/step - loss: 0.4086 - accuracy: 0.8556 - val_loss: 0.4014 - val_accuracy: 0.8444\n",
      "Epoch 16/20\n",
      "12/12 [==============================] - 0s 7ms/step - loss: 0.4020 - accuracy: 0.8472 - val_loss: 0.4342 - val_accuracy: 0.8222\n",
      "Epoch 17/20\n",
      "12/12 [==============================] - 0s 7ms/step - loss: 0.4028 - accuracy: 0.8458 - val_loss: 0.3959 - val_accuracy: 0.8500\n",
      "Epoch 18/20\n",
      "12/12 [==============================] - 0s 10ms/step - loss: 0.3960 - accuracy: 0.8542 - val_loss: 0.4301 - val_accuracy: 0.8389\n",
      "Epoch 19/20\n",
      "12/12 [==============================] - 0s 7ms/step - loss: 0.3969 - accuracy: 0.8472 - val_loss: 0.4148 - val_accuracy: 0.8333\n",
      "Epoch 20/20\n",
      "12/12 [==============================] - 0s 7ms/step - loss: 0.3904 - accuracy: 0.8597 - val_loss: 0.3859 - val_accuracy: 0.8444\n"
     ]
    },
    {
     "data": {
      "text/plain": [
       "<keras.src.callbacks.History at 0x1de3137edc0>"
      ]
     },
     "execution_count": 20,
     "metadata": {},
     "output_type": "execute_result"
    }
   ],
   "source": [
    "#build the model\n",
    "model.fit(X_train, Y_train,\n",
    "         batch_size=64,\n",
    "         epochs=20,\n",
    "         verbose=1,\n",
    "         validation_split=0.2)"
   ]
  },
  {
   "cell_type": "code",
   "execution_count": 22,
   "id": "a84bfdce-3f4a-487e-8e50-015350008331",
   "metadata": {},
   "outputs": [
    {
     "name": "stdout",
     "output_type": "stream",
     "text": [
      "4/4 [==============================] - 0s 3ms/step - loss: 0.4048 - accuracy: 0.8400\n"
     ]
    },
    {
     "data": {
      "text/plain": [
       "[0.4048117399215698, 0.8399999737739563]"
      ]
     },
     "execution_count": 22,
     "metadata": {},
     "output_type": "execute_result"
    }
   ],
   "source": [
    "model.evaluate(X_test, Y_test)"
   ]
  },
  {
   "cell_type": "code",
   "execution_count": 24,
   "id": "0610dd86-23c0-4bf0-b173-adf2f655d2db",
   "metadata": {},
   "outputs": [
    {
     "name": "stdout",
     "output_type": "stream",
     "text": [
      "1/1 [==============================] - 0s 48ms/step\n",
      "['DATABASE_ISSUE']\n"
     ]
    }
   ],
   "source": [
    "import numpy as np\n",
    "\n",
    "CPU_LOAD=1\n",
    "MEMORY_LOAD=0\n",
    "DELAY=0\n",
    "ERROR_1000=0\n",
    "ERROR_1001=1\n",
    "ERROR_1002=1\n",
    "ERROR_1003=0\n",
    "\n",
    "prediction = np.argmax(model.predict(\n",
    "    [[CPU_LOAD, MEMORY_LOAD, DELAY, ERROR_1000,ERROR_1001, ERROR_1002, ERROR_1003]]), axis=1)\n",
    "\n",
    "# covert the numeric to string inverse of label_encoder\n",
    "print(label_encoder.inverse_transform(prediction))"
   ]
  },
  {
   "cell_type": "code",
   "execution_count": 28,
   "id": "59ab99d2-c549-418c-9e88-a86ad841708a",
   "metadata": {},
   "outputs": [
    {
     "name": "stdout",
     "output_type": "stream",
     "text": [
      "1/1 [==============================] - 0s 47ms/step\n",
      "['NETWORK_DELAY' 'NETWORK_DELAY' 'MEMORY_LEAK' 'DATABASE_ISSUE']\n"
     ]
    }
   ],
   "source": [
    "# predict a bunch of arrays\n",
    "print(label_encoder.inverse_transform(np.argmax(model.predict(\n",
    "    [[1,0,0,1,1,0,0],\n",
    "    [0,1,1,1,0,0,0],\n",
    "    [0,0,0,0,0,0,0],\n",
    "    [1,0,1,0,1,1,1]]), axis=1\n",
    ")))"
   ]
  }
 ],
 "metadata": {
  "kernelspec": {
   "display_name": "Python 3",
   "language": "python",
   "name": "python3"
  },
  "language_info": {
   "codemirror_mode": {
    "name": "ipython",
    "version": 3
   },
   "file_extension": ".py",
   "mimetype": "text/x-python",
   "name": "python",
   "nbconvert_exporter": "python",
   "pygments_lexer": "ipython3",
   "version": "3.8.8"
  }
 },
 "nbformat": 4,
 "nbformat_minor": 5
}
